{
 "cells": [
  {
   "cell_type": "markdown",
   "metadata": {},
   "source": [
    "# Local"
   ]
  },
  {
   "cell_type": "code",
   "execution_count": 1,
   "metadata": {},
   "outputs": [],
   "source": [
    "import pandas as pd\n",
    "from sklearn.model_selection import train_test_split\n",
    "from sklearn.tree import DecisionTreeClassifier\n",
    "import joblib"
   ]
  },
  {
   "cell_type": "code",
   "execution_count": 2,
   "metadata": {},
   "outputs": [
    {
     "name": "stdout",
     "output_type": "stream",
     "text": [
      "The route exist: D:\\ia_1\\challenge\\projectCIAA\\data\n",
      "Files in the route: ['WineQT.csv']\n"
     ]
    }
   ],
   "source": [
    "import os\n",
    "# Define the route\n",
    "route = r\"D:\\ia_1\\challenge\\projectCIAA\\data\"\n",
    "\n",
    "# Verify that the route exists\n",
    "if os.path.exists(route):\n",
    "    print(\"The route exist:\", route)\n",
    "else:\n",
    "    print(\"The route doesn't exist:\", route)\n",
    "\n",
    "# Obtain the files in the route\n",
    "files = os.listdir(route)\n",
    "print(\"Files in the route:\", files)"
   ]
  },
  {
   "cell_type": "code",
   "execution_count": 4,
   "metadata": {},
   "outputs": [
    {
     "name": "stdout",
     "output_type": "stream",
     "text": [
      "Train performance: 1.0\n",
      "Test performance: 0.834061135371179\n",
      "['Regular']\n"
     ]
    }
   ],
   "source": [
    "df = pd.read_csv('D:\\ia_1\\challenge\\projectCIAA\\data\\WineQT.csv')\n",
    "df['quality'] = df['quality'].replace([3,4,5,6,7,8],[\"Malo\",\"Malo\", \"Regular\", \"Regular\", \"Bueno\", \"Bueno\"])\n",
    "\n",
    "x=df.drop('quality',axis=1) #Variables de entrada\n",
    "y=df['quality'] #Variable de salida\n",
    "\n",
    "# Train tes split\n",
    "x_train,x_test,y_train,y_test=train_test_split(x,y,test_size=0.2,random_state=42) #Dividimos los datos en entrenamiento y prueba\n",
    "\n",
    "# Model generation\n",
    "dt = DecisionTreeClassifier(random_state=42)\n",
    "dt.fit(x_train,y_train) #Entrenamos el modelo\n",
    "\n",
    "# Train performance\n",
    "res_train = dt.score(x_train,y_train) #Evaluamos el modelo con los datos de entrenamiento\n",
    "print(\"Train performance:\", res_train)\n",
    "\n",
    "# Test performance\n",
    "res_test = dt.score(x_test,y_test) #Evaluamos el modelo con los datos de prueba\n",
    "print(\"Test performance:\", res_test)\n",
    "\n",
    "joblib.dump(dt, 'dt1.joblib')\n",
    "\n",
    "x_test.iloc[[0]]\n",
    "print(dt.predict(x_test.iloc[[0]]))"
   ]
  },
  {
   "cell_type": "code",
   "execution_count": 5,
   "metadata": {},
   "outputs": [
    {
     "name": "stdout",
     "output_type": "stream",
     "text": [
      "1.2.2\n"
     ]
    }
   ],
   "source": [
    "import sklearn\n",
    "print(sklearn.__version__)\n"
   ]
  }
 ],
 "metadata": {
  "kernelspec": {
   "display_name": "Python 3",
   "language": "python",
   "name": "python3"
  },
  "language_info": {
   "codemirror_mode": {
    "name": "ipython",
    "version": 3
   },
   "file_extension": ".py",
   "mimetype": "text/x-python",
   "name": "python",
   "nbconvert_exporter": "python",
   "pygments_lexer": "ipython3",
   "version": "3.11.4"
  },
  "orig_nbformat": 4
 },
 "nbformat": 4,
 "nbformat_minor": 2
}
